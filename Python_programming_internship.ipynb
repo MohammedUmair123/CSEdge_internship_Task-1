{
  "nbformat": 4,
  "nbformat_minor": 0,
  "metadata": {
    "colab": {
      "provenance": []
    },
    "kernelspec": {
      "name": "python3",
      "display_name": "Python 3"
    },
    "language_info": {
      "name": "python"
    }
  },
  "cells": [
    {
      "cell_type": "code",
      "execution_count": 1,
      "metadata": {
        "id": "tP1urTD59rzG"
      },
      "outputs": [],
      "source": [
        "#TASK-1"
      ]
    },
    {
      "cell_type": "code",
      "source": [
        "import requests\n",
        "from bs4 import BeautifulSoup\n",
        "import pandas as pd\n",
        "\n",
        "# Step 1: Send a request to the website\n",
        "url = \"https://example.com\"  # Replace with the target URL\n",
        "response = requests.get(url)\n",
        "response.raise_for_status()  # Check if the request was successful\n",
        "\n",
        "# Step 2: Parse the HTML content\n",
        "soup = BeautifulSoup(response.text, 'html.parser')\n",
        "\n",
        "# Step 3: Extract the data\n",
        "articles = soup.find_all('article')  # Adjust this to match the HTML structure of the site\n",
        "\n",
        "data = []\n",
        "for article in articles:\n",
        "    title = article.find('h2').text.strip()  # Adjust to the correct tag and class\n",
        "    link = article.find('a')['href']\n",
        "    data.append({'Title': title, 'Link': link})\n",
        "\n",
        "# Step 4: Save the data to a CSV file\n",
        "df = pd.DataFrame(data)\n",
        "df.to_csv('articles.csv', index=False)\n",
        "\n",
        "print(\"Data has been saved to articles.csv\")\n"
      ],
      "metadata": {
        "id": "sJGQ35JV-R0n"
      },
      "execution_count": null,
      "outputs": []
    }
  ]
}